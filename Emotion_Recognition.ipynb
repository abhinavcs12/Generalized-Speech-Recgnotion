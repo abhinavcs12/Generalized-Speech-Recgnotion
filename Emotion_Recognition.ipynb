{
  "cells": [
    {
      "cell_type": "code",
      "execution_count": 1,
      "metadata": {
        "id": "wCYdeeyDwSdM"
      },
      "outputs": [],
      "source": [
        "import librosa\n",
        "import soundfile\n",
        "import os, glob, pickle\n",
        "import numpy as np\n",
        "from sklearn.model_selection import train_test_split\n",
        "from sklearn.neural_network import MLPClassifier\n",
        "from sklearn.metrics import accuracy_score\n",
        "import matplotlib.pyplot as plt"
      ]
    },
    {
      "cell_type": "code",
      "execution_count": 8,
      "metadata": {
        "id": "kT92uArMwTyz"
      },
      "outputs": [],
      "source": [
        "def extract_feature(file_name, mfcc, chroma, mel):\n",
        "    X, sample_rate = librosa.load(os.path.join(file_name), res_type='kaiser_fast')\n",
        "    if chroma:\n",
        "        stft=np.abs(librosa.stft(X))\n",
        "    result=np.array([])\n",
        "    if mfcc:\n",
        "        mfccs=np.mean(librosa.feature.mfcc(y=X, sr=sample_rate, n_mfcc=40).T, axis=0)\n",
        "        result=np.hstack((result, mfccs))\n",
        "    if chroma:\n",
        "        chroma=np.mean(librosa.feature.chroma_stft(S=stft, sr=sample_rate).T,axis=0)\n",
        "        result=np.hstack((result, chroma))\n",
        "    if mel:\n",
        "        mel=np.mean(librosa.feature.melspectrogram(y=X, sr=sample_rate).T,axis=0)\n",
        "        result=np.hstack((result, mel))\n",
        "    return result\n",
        "    # print(X)\n"
      ]
    },
    {
      "cell_type": "code",
      "execution_count": 5,
      "metadata": {
        "id": "1hRQ87TcwZLX"
      },
      "outputs": [],
      "source": [
        "emotions={\n",
        "  '01':'neutral',\n",
        "  '02':'calm',\n",
        "  '03':'happy',\n",
        "  '04':'sad',\n",
        "  '05':'angry',\n",
        "  '06':'fearful',\n",
        "  '07':'disgust',\n",
        "  '08':'surprised'\n",
        "}\n",
        "# Emotions to observe RAVDESS\n",
        "observed_emotions=['neutral','calm','happy','sad','angry','fearful', 'disgust','surprised']\n",
        "\n",
        "emotions_2={\n",
        "  'neutral':'neutral',\n",
        "  'happy':'happy',\n",
        "  'sad':'sad',\n",
        "  'angry':'angry',\n",
        "  'fear':'fear',\n",
        "  'disgust':'disgust',\n",
        "  'ps':'surprised'\n",
        "}\n",
        "# Emotions to observe TESS\n",
        "observed_emotions_2=['neutral','happy','sad','angry','fear', 'disgust','ps']"
      ]
    },
    {
      "cell_type": "code",
      "execution_count": 8,
      "metadata": {},
      "outputs": [],
      "source": [
        "def load_data(test_size=0.2):\n",
        "    x,y=[],[]\n",
        "    for file in glob.glob('Actor_speech/Actor_*/*.wav'):\n",
        "        file_name=os.path.basename(file)\n",
        "        emotion=emotions[file_name.split(\"-\")[2]]\n",
        "        if emotion not in observed_emotions:\n",
        "            continue\n",
        "        feature=extract_feature(file, mfcc=True, chroma=True, mel=True)\n",
        "        x.append(feature)\n",
        "        y.append(emotion)\n",
        "    for file in glob.glob('Tess/OAF_*/*.wav'):\n",
        "        file_name=os.path.basename(file)\n",
        "        emotion2=emotions_2[file_name.split(\"_\")[2][:-4]]\n",
        "        if emotion2 not in observed_emotions_2:\n",
        "            continue\n",
        "        feature=extract_feature(file, mfcc=True, chroma=True, mel=True)\n",
        "        x.append(feature)\n",
        "        y.append(emotion2)\n",
        "    return x,y  # Return a single tuple containing x and y\n"
      ]
    },
    {
      "cell_type": "code",
      "execution_count": 9,
      "metadata": {},
      "outputs": [],
      "source": [
        "x,y = load_data(test_size=0.25)"
      ]
    },
    {
      "cell_type": "code",
      "execution_count": 19,
      "metadata": {
        "colab": {
          "base_uri": "https://localhost:8080/",
          "height": 553
        },
        "id": "kULRAIQpwnd6",
        "outputId": "1c13d31b-9e79-45ab-8346-0ca21d9c4795"
      },
      "outputs": [],
      "source": [
        "import time\n",
        "x_train,x_test,y_train,y_test=train_test_split(np.array(x), y, test_size=0.25, train_size= 0.75,random_state=9)"
      ]
    },
    {
      "cell_type": "code",
      "execution_count": 20,
      "metadata": {
        "id": "5EApbeN8wpaP"
      },
      "outputs": [
        {
          "name": "stdout",
          "output_type": "stream",
          "text": [
            "(3639, 1213)\n"
          ]
        }
      ],
      "source": [
        "print((x_train.shape[0], x_test.shape[0]))"
      ]
    },
    {
      "cell_type": "code",
      "execution_count": 21,
      "metadata": {
        "id": "QayHXL-UwsOp"
      },
      "outputs": [
        {
          "name": "stdout",
          "output_type": "stream",
          "text": [
            "Features extracted: 180\n"
          ]
        }
      ],
      "source": [
        "print(f'Features extracted: {x_train.shape[1]}')"
      ]
    },
    {
      "cell_type": "code",
      "execution_count": 22,
      "metadata": {
        "id": "hOK2nkqjwsk6"
      },
      "outputs": [],
      "source": [
        "model=MLPClassifier(alpha=0.01, batch_size=256, epsilon=1e-08, hidden_layer_sizes=(300,), learning_rate='adaptive', max_iter=500)"
      ]
    },
    {
      "cell_type": "code",
      "execution_count": 23,
      "metadata": {
        "id": "BCdmOksCxVo7"
      },
      "outputs": [
        {
          "data": {
            "text/html": [
              "<style>#sk-container-id-1 {color: black;background-color: white;}#sk-container-id-1 pre{padding: 0;}#sk-container-id-1 div.sk-toggleable {background-color: white;}#sk-container-id-1 label.sk-toggleable__label {cursor: pointer;display: block;width: 100%;margin-bottom: 0;padding: 0.3em;box-sizing: border-box;text-align: center;}#sk-container-id-1 label.sk-toggleable__label-arrow:before {content: \"▸\";float: left;margin-right: 0.25em;color: #696969;}#sk-container-id-1 label.sk-toggleable__label-arrow:hover:before {color: black;}#sk-container-id-1 div.sk-estimator:hover label.sk-toggleable__label-arrow:before {color: black;}#sk-container-id-1 div.sk-toggleable__content {max-height: 0;max-width: 0;overflow: hidden;text-align: left;background-color: #f0f8ff;}#sk-container-id-1 div.sk-toggleable__content pre {margin: 0.2em;color: black;border-radius: 0.25em;background-color: #f0f8ff;}#sk-container-id-1 input.sk-toggleable__control:checked~div.sk-toggleable__content {max-height: 200px;max-width: 100%;overflow: auto;}#sk-container-id-1 input.sk-toggleable__control:checked~label.sk-toggleable__label-arrow:before {content: \"▾\";}#sk-container-id-1 div.sk-estimator input.sk-toggleable__control:checked~label.sk-toggleable__label {background-color: #d4ebff;}#sk-container-id-1 div.sk-label input.sk-toggleable__control:checked~label.sk-toggleable__label {background-color: #d4ebff;}#sk-container-id-1 input.sk-hidden--visually {border: 0;clip: rect(1px 1px 1px 1px);clip: rect(1px, 1px, 1px, 1px);height: 1px;margin: -1px;overflow: hidden;padding: 0;position: absolute;width: 1px;}#sk-container-id-1 div.sk-estimator {font-family: monospace;background-color: #f0f8ff;border: 1px dotted black;border-radius: 0.25em;box-sizing: border-box;margin-bottom: 0.5em;}#sk-container-id-1 div.sk-estimator:hover {background-color: #d4ebff;}#sk-container-id-1 div.sk-parallel-item::after {content: \"\";width: 100%;border-bottom: 1px solid gray;flex-grow: 1;}#sk-container-id-1 div.sk-label:hover label.sk-toggleable__label {background-color: #d4ebff;}#sk-container-id-1 div.sk-serial::before {content: \"\";position: absolute;border-left: 1px solid gray;box-sizing: border-box;top: 0;bottom: 0;left: 50%;z-index: 0;}#sk-container-id-1 div.sk-serial {display: flex;flex-direction: column;align-items: center;background-color: white;padding-right: 0.2em;padding-left: 0.2em;position: relative;}#sk-container-id-1 div.sk-item {position: relative;z-index: 1;}#sk-container-id-1 div.sk-parallel {display: flex;align-items: stretch;justify-content: center;background-color: white;position: relative;}#sk-container-id-1 div.sk-item::before, #sk-container-id-1 div.sk-parallel-item::before {content: \"\";position: absolute;border-left: 1px solid gray;box-sizing: border-box;top: 0;bottom: 0;left: 50%;z-index: -1;}#sk-container-id-1 div.sk-parallel-item {display: flex;flex-direction: column;z-index: 1;position: relative;background-color: white;}#sk-container-id-1 div.sk-parallel-item:first-child::after {align-self: flex-end;width: 50%;}#sk-container-id-1 div.sk-parallel-item:last-child::after {align-self: flex-start;width: 50%;}#sk-container-id-1 div.sk-parallel-item:only-child::after {width: 0;}#sk-container-id-1 div.sk-dashed-wrapped {border: 1px dashed gray;margin: 0 0.4em 0.5em 0.4em;box-sizing: border-box;padding-bottom: 0.4em;background-color: white;}#sk-container-id-1 div.sk-label label {font-family: monospace;font-weight: bold;display: inline-block;line-height: 1.2em;}#sk-container-id-1 div.sk-label-container {text-align: center;}#sk-container-id-1 div.sk-container {/* jupyter's `normalize.less` sets `[hidden] { display: none; }` but bootstrap.min.css set `[hidden] { display: none !important; }` so we also need the `!important` here to be able to override the default hidden behavior on the sphinx rendered scikit-learn.org. See: https://github.com/scikit-learn/scikit-learn/issues/21755 */display: inline-block !important;position: relative;}#sk-container-id-1 div.sk-text-repr-fallback {display: none;}</style><div id=\"sk-container-id-1\" class=\"sk-top-container\"><div class=\"sk-text-repr-fallback\"><pre>MLPClassifier(alpha=0.01, batch_size=256, hidden_layer_sizes=(300,),\n",
              "              learning_rate=&#x27;adaptive&#x27;, max_iter=500)</pre><b>In a Jupyter environment, please rerun this cell to show the HTML representation or trust the notebook. <br />On GitHub, the HTML representation is unable to render, please try loading this page with nbviewer.org.</b></div><div class=\"sk-container\" hidden><div class=\"sk-item\"><div class=\"sk-estimator sk-toggleable\"><input class=\"sk-toggleable__control sk-hidden--visually\" id=\"sk-estimator-id-1\" type=\"checkbox\" checked><label for=\"sk-estimator-id-1\" class=\"sk-toggleable__label sk-toggleable__label-arrow\">MLPClassifier</label><div class=\"sk-toggleable__content\"><pre>MLPClassifier(alpha=0.01, batch_size=256, hidden_layer_sizes=(300,),\n",
              "              learning_rate=&#x27;adaptive&#x27;, max_iter=500)</pre></div></div></div></div></div>"
            ],
            "text/plain": [
              "MLPClassifier(alpha=0.01, batch_size=256, hidden_layer_sizes=(300,),\n",
              "              learning_rate='adaptive', max_iter=500)"
            ]
          },
          "execution_count": 23,
          "metadata": {},
          "output_type": "execute_result"
        }
      ],
      "source": [
        "model.fit(x_train,y_train)"
      ]
    },
    {
      "cell_type": "code",
      "execution_count": 24,
      "metadata": {
        "id": "nAt34LmexV8q"
      },
      "outputs": [],
      "source": [
        "y_pred=model.predict(x_test)"
      ]
    },
    {
      "cell_type": "code",
      "execution_count": 25,
      "metadata": {
        "id": "sxsNyL-oxaRt"
      },
      "outputs": [
        {
          "name": "stdout",
          "output_type": "stream",
          "text": [
            "Accuracy: 81.95%\n"
          ]
        }
      ],
      "source": [
        "accuracy=accuracy_score(y_true=y_test, y_pred=y_pred)\n",
        "# Print the accuracy\n",
        "print(\"Accuracy: {:.2f}%\".format(accuracy*100))"
      ]
    },
    {
      "cell_type": "code",
      "execution_count": 26,
      "metadata": {
        "id": "li-zvWz5xa2C"
      },
      "outputs": [
        {
          "name": "stdout",
          "output_type": "stream",
          "text": [
            "              precision    recall  f1-score   support\n",
            "\n",
            "       angry       0.86      0.93      0.90       205\n",
            "        calm       0.52      0.93      0.67        99\n",
            "     disgust       0.97      0.72      0.83       149\n",
            "        fear       0.98      0.99      0.98        98\n",
            "     fearful       0.76      0.61      0.68        83\n",
            "       happy       0.92      0.75      0.83       196\n",
            "     neutral       1.00      0.81      0.89       150\n",
            "         sad       0.82      0.82      0.82       187\n",
            "   surprised       0.47      0.76      0.58        46\n",
            "\n",
            "    accuracy                           0.82      1213\n",
            "   macro avg       0.81      0.81      0.80      1213\n",
            "weighted avg       0.86      0.82      0.83      1213\n",
            "\n"
          ]
        }
      ],
      "source": [
        "from sklearn.metrics import classification_report\n",
        "print(classification_report(y_test,y_pred))"
      ]
    },
    {
      "cell_type": "code",
      "execution_count": 27,
      "metadata": {
        "id": "fIFN6oO6xaca"
      },
      "outputs": [
        {
          "name": "stdout",
          "output_type": "stream",
          "text": [
            "[[191   1   0   2   3   0   0   2   6]\n",
            " [  1  92   0   0   1   1   0   2   2]\n",
            " [  6  14 107   0   5   2   0   4  11]\n",
            " [  0   0   0  97   0   1   0   0   0]\n",
            " [  8   6   0   0  51   4   0  12   2]\n",
            " [ 10  22   2   0   3 147   0   4   8]\n",
            " [  1  17   0   0   0   0 121   8   3]\n",
            " [  3  19   0   0   3   2   0 153   7]\n",
            " [  1   5   1   0   1   2   0   1  35]]\n"
          ]
        }
      ],
      "source": [
        "from sklearn.metrics import confusion_matrix\n",
        "matrix = confusion_matrix(y_test,y_pred)\n",
        "print (matrix)"
      ]
    },
    {
      "cell_type": "code",
      "execution_count": 30,
      "metadata": {},
      "outputs": [],
      "source": [
        "history = model.fit(x_train, y_train)"
      ]
    },
    {
      "cell_type": "code",
      "execution_count": 33,
      "metadata": {},
      "outputs": [
        {
          "data": {
            "image/png": "[encoded data removed]",
            "text/plain": [
              "<Figure size 640x480 with 1 Axes>"
            ]
          },
          "metadata": {},
          "output_type": "display_data"
        }
      ],
      "source": [
        "plt.plot(history.loss_curve_, label='Training Loss')\n",
        "# plt.plot(history.score(x_train, y_train), label='Training Accuracy')\n",
        "plt.xlabel('Epoch')\n",
        "plt.ylabel('Value')\n",
        "plt.legend()\n",
        "plt.show()"
      ]
    },
    {
      "cell_type": "code",
      "execution_count": 42,
      "metadata": {},
      "outputs": [
        {
          "name": "stdout",
          "output_type": "stream",
          "text": [
            "Score: 92.14%\n"
          ]
        }
      ],
      "source": [
        "score = history.score(x_train, y_train)\n",
        "print(\"Score: {:.2f}%\".format(score * 100))"
      ]
    },
    {
      "cell_type": "code",
      "execution_count": 36,
      "metadata": {},
      "outputs": [
        {
          "name": "stdout",
          "output_type": "stream",
          "text": [
            "Accuracy: 83.02%\n",
            "Model Loss: 0.2584\n"
          ]
        }
      ],
      "source": [
        "accuracy = model.score(x_test, y_test)\n",
        "loss = model.loss_\n",
        "# print the accuracy and model loss\n",
        "print(\"Accuracy: {:.2f}%\".format(accuracy * 100))\n",
        "print(\"Model Loss: {:.4f}\".format(loss))"
      ]
    },
    {
      "cell_type": "code",
      "execution_count": 37,
      "metadata": {},
      "outputs": [
        {
          "data": {
            "text/plain": [
              "['Mix_Model_2.sav']"
            ]
          },
          "execution_count": 37,
          "metadata": {},
          "output_type": "execute_result"
        }
      ],
      "source": [
        "import joblib\n",
        "filename = 'Mix_Model_2.sav'\n",
        "joblib.dump(model, filename)"
      ]
    },
    {
      "cell_type": "code",
      "execution_count": 130,
      "metadata": {},
      "outputs": [
        {
          "name": "stdout",
          "output_type": "stream",
          "text": [
            "3857\n",
            "1025\n"
          ]
        }
      ],
      "source": [
        "audio_file = \"./test_angry.wav\"\n",
        "y, sr = librosa.load(audio_file)\n",
        "# Compute pitch values using the autocorrelation method\n",
        "# f0, voiced_flags, voiced_probs = librosa.core.pitch(y=y, sr=sr, method='mcleod')\n",
        "# Print the pitch values\n",
        "# print(f0)\n",
        "pitches, magnitudes = librosa.core.piptrack(y=y, sr=sr, fmin=75, fmax=1600)\n",
        "# np.set_printoptions(threshold=np.nan)\n",
        "print(pitches[np.nonzero(pitches)].shape[0])\n",
        "print(pitches.shape[0])\n",
        "import librosa\n",
        "# Load audio file\n",
        "y, sr = librosa.load(\"./test_angry.wav\")\n",
        "# Extract amplitude\n",
        "amplitude = librosa.amplitude_to_db(librosa.stft(y), ref=np.max)\n",
        "# Extract frequency\n",
        "frequencies, magnitudes = librosa.magphase(librosa.stft(y))\n",
        "frequency = librosa.fft_frequencies(sr=sr)\n",
        "# Extract tone and pitch\n",
        "tone = librosa.feature.tonnetz(y=y, sr=sr)\n",
        "# pitch = librosa.core.pitch(y=y, sr=sr, fmin=75, fmax=1600)\n",
        "# Extract pitch information\n",
        "pitch_freq, pitch_mag = librosa.piptrack(y=y, sr=sr, fmin=75, fmax=1600)\n",
        "# Print the pitch values\n",
        "print(pitch_freq)"
      ]
    },
    {
      "cell_type": "code",
      "execution_count": 15,
      "metadata": {},
      "outputs": [],
      "source": [
        "import joblib\n",
        "\n",
        "file_n = \"Mix_Model_2.sav\"\n",
        "model = joblib.load(file_n)"
      ]
    },
    {
      "cell_type": "code",
      "execution_count": 7,
      "metadata": {},
      "outputs": [
        {
          "name": "stdout",
          "output_type": "stream",
          "text": [
            "[ 1.2042243e-04  4.2161848e-03 -6.4544973e-04 ...  1.1732723e-06\n",
            " -8.9329336e-07  0.0000000e+00]\n"
          ]
        },
        {
          "data": {
            "text/plain": [
              "NoneType"
            ]
          },
          "execution_count": 7,
          "metadata": {},
          "output_type": "execute_result"
        }
      ],
      "source": [
        "f = \"./Angry.wav\"\n",
        "test = extract_feature(f,mfcc=True, chroma=True, mel=True)"
      ]
    },
    {
      "cell_type": "code",
      "execution_count": 19,
      "metadata": {},
      "outputs": [
        {
          "data": {
            "text/plain": [
              "array(['angry'], dtype='<U9')"
            ]
          },
          "execution_count": 19,
          "metadata": {},
          "output_type": "execute_result"
        }
      ],
      "source": [
        "test = test.reshape(1, -1)\n",
        "test.shape[1]\n",
        "pred_test=model.predict(test)\n",
        "pred_test"
      ]
    },
    {
      "cell_type": "code",
      "execution_count": null,
      "metadata": {},
      "outputs": [],
      "source": [
        "# def load_data(test_size=0.2):\n",
        "#     x,y=[],[]\n",
        "#     # for file in glob.glob('D:\\Minor 2\\Github Ab\\Speech-Emotion-Recognition-using-ML-and-DL-master\\MLP classifier\\Actor_*/*.wav'):\n",
        "#     for file in glob.glob('Actor_speech/Actor_*/*.wav'):\n",
        "#         file_name=os.path.basename(file)\n",
        "#         emotion=emotions[file_name.split(\"-\")[2]]\n",
        "#         # print(emotions)\n",
        "#         if emotion not in observed_emotions:\n",
        "#             continue\n",
        "#         feature=extract_feature(file, mfcc=True, chroma=True, mel=True)\n",
        "#         x.append(feature)\n",
        "#         y.append(emotion)\n",
        "#     for file in glob.glob('Tess/OAF_*/*.wav'):\n",
        "#         file_name=os.path.basename(file)\n",
        "#         emotion2=emotions_2[file_name.split(\"_\")[2][:-4]]\n",
        "#         # print(emotion2)\n",
        "#         if emotion2 not in observed_emotions_2:\n",
        "#             continue\n",
        "#             # print(\"yes\")\n",
        "#         feature=extract_feature(file, mfcc=True, chroma=True, mel=True)\n",
        "#         x.append(feature)\n",
        "#         y.append(emotion2)\n",
        "#     # return train_test_split(np.array(x), y, test_size=test_size, train_size= 0.75,random_state=9)\n",
        "#     return x,y"
      ]
    }
  ],
  "metadata": {
    "accelerator": "GPU",
    "colab": {
      "provenance": []
    },
    "gpuClass": "standard",
    "kernelspec": {
      "display_name": "Python 3",
      "name": "python3"
    },
    "language_info": {
      "codemirror_mode": {
        "name": "ipython",
        "version": 3
      },
      "file_extension": ".py",
      "mimetype": "text/x-python",
      "name": "python",
      "nbconvert_exporter": "python",
      "pygments_lexer": "ipython3",
      "version": "3.9.13"
    }
  },
  "nbformat": 4,
  "nbformat_minor": 0
}
